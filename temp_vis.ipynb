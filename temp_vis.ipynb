{
 "cells": [
  {
   "cell_type": "code",
   "execution_count": 2,
   "metadata": {},
   "outputs": [],
   "source": [
    "# show image\n",
    "import matplotlib.image as mpimg\n",
    "import numpy as np\n",
    "import cv2\n",
    "img_path = \"test_data/0000000000.png\"\n",
    "\n",
    "def show_img(img_path):\n",
    "    png = mpimg.imread(img_path)\n",
    "    cv2.imshow('raw_img',png) \n",
    "show_img(img_path)"
   ]
  }
 ],
 "metadata": {
  "kernelspec": {
   "display_name": "od_research",
   "language": "python",
   "name": "python3"
  },
  "language_info": {
   "codemirror_mode": {
    "name": "ipython",
    "version": 3
   },
   "file_extension": ".py",
   "mimetype": "text/x-python",
   "name": "python",
   "nbconvert_exporter": "python",
   "pygments_lexer": "ipython3",
   "version": "3.8.16"
  },
  "orig_nbformat": 4
 },
 "nbformat": 4,
 "nbformat_minor": 2
}
